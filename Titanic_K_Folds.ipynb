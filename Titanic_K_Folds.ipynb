{
 "cells": [
  {
   "cell_type": "code",
   "execution_count": 1,
   "metadata": {},
   "outputs": [],
   "source": [
    "import pandas as pd\n",
    "import matplotlib.pyplot  as plt\n",
    "%matplotlib inline"
   ]
  },
  {
   "cell_type": "code",
   "execution_count": 2,
   "metadata": {},
   "outputs": [
    {
     "data": {
      "text/html": [
       "<div>\n",
       "<style scoped>\n",
       "    .dataframe tbody tr th:only-of-type {\n",
       "        vertical-align: middle;\n",
       "    }\n",
       "\n",
       "    .dataframe tbody tr th {\n",
       "        vertical-align: top;\n",
       "    }\n",
       "\n",
       "    .dataframe thead th {\n",
       "        text-align: right;\n",
       "    }\n",
       "</style>\n",
       "<table border=\"1\" class=\"dataframe\">\n",
       "  <thead>\n",
       "    <tr style=\"text-align: right;\">\n",
       "      <th></th>\n",
       "      <th>PassengerId</th>\n",
       "      <th>Survived</th>\n",
       "      <th>Pclass</th>\n",
       "      <th>Name</th>\n",
       "      <th>Sex</th>\n",
       "      <th>Age</th>\n",
       "      <th>SibSp</th>\n",
       "      <th>Parch</th>\n",
       "      <th>Ticket</th>\n",
       "      <th>Fare</th>\n",
       "      <th>Cabin</th>\n",
       "      <th>Embarked</th>\n",
       "    </tr>\n",
       "  </thead>\n",
       "  <tbody>\n",
       "    <tr>\n",
       "      <th>0</th>\n",
       "      <td>1</td>\n",
       "      <td>0</td>\n",
       "      <td>3</td>\n",
       "      <td>Braund, Mr. Owen Harris</td>\n",
       "      <td>male</td>\n",
       "      <td>22.0</td>\n",
       "      <td>1</td>\n",
       "      <td>0</td>\n",
       "      <td>A/5 21171</td>\n",
       "      <td>7.2500</td>\n",
       "      <td>NaN</td>\n",
       "      <td>S</td>\n",
       "    </tr>\n",
       "    <tr>\n",
       "      <th>1</th>\n",
       "      <td>2</td>\n",
       "      <td>1</td>\n",
       "      <td>1</td>\n",
       "      <td>Cumings, Mrs. John Bradley (Florence Briggs Th...</td>\n",
       "      <td>female</td>\n",
       "      <td>38.0</td>\n",
       "      <td>1</td>\n",
       "      <td>0</td>\n",
       "      <td>PC 17599</td>\n",
       "      <td>71.2833</td>\n",
       "      <td>C85</td>\n",
       "      <td>C</td>\n",
       "    </tr>\n",
       "    <tr>\n",
       "      <th>2</th>\n",
       "      <td>3</td>\n",
       "      <td>1</td>\n",
       "      <td>3</td>\n",
       "      <td>Heikkinen, Miss. Laina</td>\n",
       "      <td>female</td>\n",
       "      <td>26.0</td>\n",
       "      <td>0</td>\n",
       "      <td>0</td>\n",
       "      <td>STON/O2. 3101282</td>\n",
       "      <td>7.9250</td>\n",
       "      <td>NaN</td>\n",
       "      <td>S</td>\n",
       "    </tr>\n",
       "    <tr>\n",
       "      <th>3</th>\n",
       "      <td>4</td>\n",
       "      <td>1</td>\n",
       "      <td>1</td>\n",
       "      <td>Futrelle, Mrs. Jacques Heath (Lily May Peel)</td>\n",
       "      <td>female</td>\n",
       "      <td>35.0</td>\n",
       "      <td>1</td>\n",
       "      <td>0</td>\n",
       "      <td>113803</td>\n",
       "      <td>53.1000</td>\n",
       "      <td>C123</td>\n",
       "      <td>S</td>\n",
       "    </tr>\n",
       "    <tr>\n",
       "      <th>4</th>\n",
       "      <td>5</td>\n",
       "      <td>0</td>\n",
       "      <td>3</td>\n",
       "      <td>Allen, Mr. William Henry</td>\n",
       "      <td>male</td>\n",
       "      <td>35.0</td>\n",
       "      <td>0</td>\n",
       "      <td>0</td>\n",
       "      <td>373450</td>\n",
       "      <td>8.0500</td>\n",
       "      <td>NaN</td>\n",
       "      <td>S</td>\n",
       "    </tr>\n",
       "  </tbody>\n",
       "</table>\n",
       "</div>"
      ],
      "text/plain": [
       "   PassengerId  Survived  Pclass  \\\n",
       "0            1         0       3   \n",
       "1            2         1       1   \n",
       "2            3         1       3   \n",
       "3            4         1       1   \n",
       "4            5         0       3   \n",
       "\n",
       "                                                Name     Sex   Age  SibSp  \\\n",
       "0                            Braund, Mr. Owen Harris    male  22.0      1   \n",
       "1  Cumings, Mrs. John Bradley (Florence Briggs Th...  female  38.0      1   \n",
       "2                             Heikkinen, Miss. Laina  female  26.0      0   \n",
       "3       Futrelle, Mrs. Jacques Heath (Lily May Peel)  female  35.0      1   \n",
       "4                           Allen, Mr. William Henry    male  35.0      0   \n",
       "\n",
       "   Parch            Ticket     Fare Cabin Embarked  \n",
       "0      0         A/5 21171   7.2500   NaN        S  \n",
       "1      0          PC 17599  71.2833   C85        C  \n",
       "2      0  STON/O2. 3101282   7.9250   NaN        S  \n",
       "3      0            113803  53.1000  C123        S  \n",
       "4      0            373450   8.0500   NaN        S  "
      ]
     },
     "execution_count": 2,
     "metadata": {},
     "output_type": "execute_result"
    }
   ],
   "source": [
    "data  = pd.read_csv(\"Titanic.csv\")\n",
    "data.head()"
   ]
  },
  {
   "cell_type": "code",
   "execution_count": 3,
   "metadata": {
    "scrolled": true
   },
   "outputs": [
    {
     "data": {
      "text/plain": [
       "PassengerId      0\n",
       "Survived         0\n",
       "Pclass           0\n",
       "Name             0\n",
       "Sex              0\n",
       "Age            177\n",
       "SibSp            0\n",
       "Parch            0\n",
       "Ticket           0\n",
       "Fare             0\n",
       "Cabin          687\n",
       "Embarked         2\n",
       "dtype: int64"
      ]
     },
     "execution_count": 3,
     "metadata": {},
     "output_type": "execute_result"
    }
   ],
   "source": [
    "#data = data.dropna(axis=1, inplace=True)\n",
    "data.isnull().sum()"
   ]
  },
  {
   "cell_type": "code",
   "execution_count": 4,
   "metadata": {},
   "outputs": [
    {
     "data": {
      "text/html": [
       "<div>\n",
       "<style scoped>\n",
       "    .dataframe tbody tr th:only-of-type {\n",
       "        vertical-align: middle;\n",
       "    }\n",
       "\n",
       "    .dataframe tbody tr th {\n",
       "        vertical-align: top;\n",
       "    }\n",
       "\n",
       "    .dataframe thead th {\n",
       "        text-align: right;\n",
       "    }\n",
       "</style>\n",
       "<table border=\"1\" class=\"dataframe\">\n",
       "  <thead>\n",
       "    <tr style=\"text-align: right;\">\n",
       "      <th></th>\n",
       "      <th>Survived</th>\n",
       "      <th>Pclass</th>\n",
       "      <th>SibSp</th>\n",
       "      <th>Parch</th>\n",
       "      <th>Fare</th>\n",
       "    </tr>\n",
       "  </thead>\n",
       "  <tbody>\n",
       "    <tr>\n",
       "      <th>0</th>\n",
       "      <td>0</td>\n",
       "      <td>3</td>\n",
       "      <td>1</td>\n",
       "      <td>0</td>\n",
       "      <td>7.2500</td>\n",
       "    </tr>\n",
       "    <tr>\n",
       "      <th>1</th>\n",
       "      <td>1</td>\n",
       "      <td>1</td>\n",
       "      <td>1</td>\n",
       "      <td>0</td>\n",
       "      <td>71.2833</td>\n",
       "    </tr>\n",
       "    <tr>\n",
       "      <th>2</th>\n",
       "      <td>1</td>\n",
       "      <td>3</td>\n",
       "      <td>0</td>\n",
       "      <td>0</td>\n",
       "      <td>7.9250</td>\n",
       "    </tr>\n",
       "    <tr>\n",
       "      <th>3</th>\n",
       "      <td>1</td>\n",
       "      <td>1</td>\n",
       "      <td>1</td>\n",
       "      <td>0</td>\n",
       "      <td>53.1000</td>\n",
       "    </tr>\n",
       "    <tr>\n",
       "      <th>4</th>\n",
       "      <td>0</td>\n",
       "      <td>3</td>\n",
       "      <td>0</td>\n",
       "      <td>0</td>\n",
       "      <td>8.0500</td>\n",
       "    </tr>\n",
       "  </tbody>\n",
       "</table>\n",
       "</div>"
      ],
      "text/plain": [
       "   Survived  Pclass  SibSp  Parch     Fare\n",
       "0         0       3      1      0   7.2500\n",
       "1         1       1      1      0  71.2833\n",
       "2         1       3      0      0   7.9250\n",
       "3         1       1      1      0  53.1000\n",
       "4         0       3      0      0   8.0500"
      ]
     },
     "execution_count": 4,
     "metadata": {},
     "output_type": "execute_result"
    }
   ],
   "source": [
    "data = data.drop(['Age', 'Cabin', 'Embarked', 'PassengerId', 'Name', 'Sex', 'Ticket'], axis=1)\n",
    "data.head()"
   ]
  },
  {
   "cell_type": "code",
   "execution_count": 5,
   "metadata": {},
   "outputs": [],
   "source": [
    "X = data.drop('Survived', axis=1)\n",
    "y = data['Survived']"
   ]
  },
  {
   "cell_type": "code",
   "execution_count": 6,
   "metadata": {},
   "outputs": [],
   "source": [
    "from sklearn.preprocessing import StandardScaler\n",
    "sc = StandardScaler()"
   ]
  },
  {
   "cell_type": "code",
   "execution_count": 7,
   "metadata": {},
   "outputs": [],
   "source": [
    "#Spliting The Dataset into Training & Testing\n",
    "from sklearn.model_selection import train_test_split\n",
    "X_train, X_test, y_train, y_test = train_test_split(X, y, test_size=0.2, random_state=0)"
   ]
  },
  {
   "cell_type": "code",
   "execution_count": 8,
   "metadata": {},
   "outputs": [],
   "source": [
    "X_train = sc.fit_transform(X_train)\n",
    "X_test = sc.transform(X_test)"
   ]
  },
  {
   "cell_type": "code",
   "execution_count": 11,
   "metadata": {},
   "outputs": [],
   "source": [
    "\n",
    "from tensorflow import keras\n",
    "from tensorflow.keras.models import Sequential\n",
    "from tensorflow.keras.layers import Dense\n",
    "from tensorflow.keras.layers import LeakyReLU, PReLU,ELU\n",
    "from tensorflow.keras.layers import Dropout"
   ]
  },
  {
   "cell_type": "code",
   "execution_count": 16,
   "metadata": {},
   "outputs": [],
   "source": [
    "model = Sequential()\n",
    "model.add(Dense(input_dim=4, units=8, activation='relu', kernel_initializer='he_uniform'))\n",
    "model.add(Dense(input_dim=4, units=4, activation='relu', kernel_initializer='he_uniform'))\n",
    "model.add(Dense(units = 1, kernel_initializer='glorot_uniform', activation='sigmoid'))\n",
    "model.compile(optimizer='Adamax', loss='binary_crossentropy', metrics=['accuracy'])"
   ]
  },
  {
   "cell_type": "code",
   "execution_count": 17,
   "metadata": {},
   "outputs": [
    {
     "name": "stdout",
     "output_type": "stream",
     "text": [
      "Model: \"sequential_2\"\n",
      "_________________________________________________________________\n",
      "Layer (type)                 Output Shape              Param #   \n",
      "=================================================================\n",
      "dense_3 (Dense)              (None, 8)                 40        \n",
      "_________________________________________________________________\n",
      "dense_4 (Dense)              (None, 4)                 36        \n",
      "_________________________________________________________________\n",
      "dense_5 (Dense)              (None, 1)                 5         \n",
      "=================================================================\n",
      "Total params: 81\n",
      "Trainable params: 81\n",
      "Non-trainable params: 0\n",
      "_________________________________________________________________\n"
     ]
    }
   ],
   "source": [
    "model.summary()"
   ]
  },
  {
   "cell_type": "code",
   "execution_count": 18,
   "metadata": {},
   "outputs": [
    {
     "name": "stdout",
     "output_type": "stream",
     "text": [
      "Epoch 1/100\n",
      "48/48 [==============================] - 1s 12ms/step - loss: 0.7655 - accuracy: 0.4353 - val_loss: 0.7287 - val_accuracy: 0.5702\n",
      "Epoch 2/100\n",
      "48/48 [==============================] - 0s 2ms/step - loss: 0.7242 - accuracy: 0.6193 - val_loss: 0.6981 - val_accuracy: 0.5617\n",
      "Epoch 3/100\n",
      "48/48 [==============================] - 0s 2ms/step - loss: 0.6839 - accuracy: 0.6151 - val_loss: 0.6820 - val_accuracy: 0.5915\n",
      "Epoch 4/100\n",
      "48/48 [==============================] - 0s 2ms/step - loss: 0.6681 - accuracy: 0.6111 - val_loss: 0.6733 - val_accuracy: 0.5957\n",
      "Epoch 5/100\n",
      "48/48 [==============================] - 0s 2ms/step - loss: 0.6528 - accuracy: 0.6666 - val_loss: 0.6687 - val_accuracy: 0.6085\n",
      "Epoch 6/100\n",
      "48/48 [==============================] - 0s 2ms/step - loss: 0.6210 - accuracy: 0.6822 - val_loss: 0.6655 - val_accuracy: 0.6085\n",
      "Epoch 7/100\n",
      "48/48 [==============================] - 0s 2ms/step - loss: 0.6461 - accuracy: 0.6476 - val_loss: 0.6638 - val_accuracy: 0.6085\n",
      "Epoch 8/100\n",
      "48/48 [==============================] - 0s 2ms/step - loss: 0.6294 - accuracy: 0.6682 - val_loss: 0.6622 - val_accuracy: 0.6085\n",
      "Epoch 9/100\n",
      "48/48 [==============================] - 0s 2ms/step - loss: 0.6260 - accuracy: 0.6767 - val_loss: 0.6605 - val_accuracy: 0.6085\n",
      "Epoch 10/100\n",
      "48/48 [==============================] - 0s 2ms/step - loss: 0.6300 - accuracy: 0.6723 - val_loss: 0.6597 - val_accuracy: 0.6128\n",
      "Epoch 11/100\n",
      "48/48 [==============================] - 0s 2ms/step - loss: 0.6406 - accuracy: 0.6360 - val_loss: 0.6569 - val_accuracy: 0.6128\n",
      "Epoch 12/100\n",
      "48/48 [==============================] - 0s 2ms/step - loss: 0.6032 - accuracy: 0.6693 - val_loss: 0.6563 - val_accuracy: 0.6128\n",
      "Epoch 13/100\n",
      "48/48 [==============================] - 0s 1ms/step - loss: 0.6238 - accuracy: 0.6560 - val_loss: 0.6541 - val_accuracy: 0.6128\n",
      "Epoch 14/100\n",
      "48/48 [==============================] - 0s 1ms/step - loss: 0.6127 - accuracy: 0.6882 - val_loss: 0.6533 - val_accuracy: 0.6128\n",
      "Epoch 15/100\n",
      "48/48 [==============================] - 0s 2ms/step - loss: 0.5869 - accuracy: 0.6935 - val_loss: 0.6524 - val_accuracy: 0.6128\n",
      "Epoch 16/100\n",
      "48/48 [==============================] - 0s 1ms/step - loss: 0.6260 - accuracy: 0.6436 - val_loss: 0.6507 - val_accuracy: 0.6128\n",
      "Epoch 17/100\n",
      "48/48 [==============================] - 0s 2ms/step - loss: 0.6292 - accuracy: 0.6564 - val_loss: 0.6498 - val_accuracy: 0.6128\n",
      "Epoch 18/100\n",
      "48/48 [==============================] - 0s 2ms/step - loss: 0.6067 - accuracy: 0.6835 - val_loss: 0.6481 - val_accuracy: 0.6128\n",
      "Epoch 19/100\n",
      "48/48 [==============================] - 0s 1ms/step - loss: 0.5762 - accuracy: 0.7002 - val_loss: 0.6472 - val_accuracy: 0.6128\n",
      "Epoch 20/100\n",
      "48/48 [==============================] - 0s 1ms/step - loss: 0.6098 - accuracy: 0.6566 - val_loss: 0.6462 - val_accuracy: 0.6085\n",
      "Epoch 21/100\n",
      "48/48 [==============================] - 0s 1ms/step - loss: 0.5880 - accuracy: 0.6910 - val_loss: 0.6452 - val_accuracy: 0.6128\n",
      "Epoch 22/100\n",
      "48/48 [==============================] - 0s 1ms/step - loss: 0.6054 - accuracy: 0.6685 - val_loss: 0.6445 - val_accuracy: 0.6128\n",
      "Epoch 23/100\n",
      "48/48 [==============================] - 0s 1ms/step - loss: 0.6149 - accuracy: 0.6837 - val_loss: 0.6444 - val_accuracy: 0.6128\n",
      "Epoch 24/100\n",
      "48/48 [==============================] - 0s 1ms/step - loss: 0.5888 - accuracy: 0.6962 - val_loss: 0.6430 - val_accuracy: 0.6128\n",
      "Epoch 25/100\n",
      "48/48 [==============================] - 0s 1ms/step - loss: 0.5963 - accuracy: 0.7020 - val_loss: 0.6421 - val_accuracy: 0.6128\n",
      "Epoch 26/100\n",
      "48/48 [==============================] - 0s 1ms/step - loss: 0.5925 - accuracy: 0.6904 - val_loss: 0.6416 - val_accuracy: 0.6128\n",
      "Epoch 27/100\n",
      "48/48 [==============================] - 0s 1ms/step - loss: 0.6203 - accuracy: 0.6695 - val_loss: 0.6408 - val_accuracy: 0.6128\n",
      "Epoch 28/100\n",
      "48/48 [==============================] - 0s 2ms/step - loss: 0.6326 - accuracy: 0.6353 - val_loss: 0.6401 - val_accuracy: 0.6128\n",
      "Epoch 29/100\n",
      "48/48 [==============================] - 0s 1ms/step - loss: 0.5935 - accuracy: 0.6820 - val_loss: 0.6396 - val_accuracy: 0.6170\n",
      "Epoch 30/100\n",
      "48/48 [==============================] - 0s 2ms/step - loss: 0.6425 - accuracy: 0.6346 - val_loss: 0.6386 - val_accuracy: 0.6170\n",
      "Epoch 31/100\n",
      "48/48 [==============================] - 0s 2ms/step - loss: 0.6038 - accuracy: 0.6814 - val_loss: 0.6382 - val_accuracy: 0.6170\n",
      "Epoch 32/100\n",
      "48/48 [==============================] - 0s 1ms/step - loss: 0.5947 - accuracy: 0.7035 - val_loss: 0.6378 - val_accuracy: 0.6298\n",
      "Epoch 33/100\n",
      "48/48 [==============================] - 0s 1ms/step - loss: 0.6079 - accuracy: 0.6758 - val_loss: 0.6366 - val_accuracy: 0.6511\n",
      "Epoch 34/100\n",
      "48/48 [==============================] - 0s 2ms/step - loss: 0.6044 - accuracy: 0.6785 - val_loss: 0.6369 - val_accuracy: 0.6383\n",
      "Epoch 35/100\n",
      "48/48 [==============================] - 0s 2ms/step - loss: 0.5934 - accuracy: 0.6933 - val_loss: 0.6352 - val_accuracy: 0.6553\n",
      "Epoch 36/100\n",
      "48/48 [==============================] - 0s 2ms/step - loss: 0.6297 - accuracy: 0.6492 - val_loss: 0.6352 - val_accuracy: 0.6553\n",
      "Epoch 37/100\n",
      "48/48 [==============================] - 0s 2ms/step - loss: 0.5869 - accuracy: 0.6924 - val_loss: 0.6347 - val_accuracy: 0.6553\n",
      "Epoch 38/100\n",
      "48/48 [==============================] - 0s 2ms/step - loss: 0.5891 - accuracy: 0.7027 - val_loss: 0.6339 - val_accuracy: 0.6553\n",
      "Epoch 39/100\n",
      "48/48 [==============================] - 0s 2ms/step - loss: 0.5882 - accuracy: 0.7168 - val_loss: 0.6344 - val_accuracy: 0.6553\n",
      "Epoch 40/100\n",
      "48/48 [==============================] - 0s 2ms/step - loss: 0.5808 - accuracy: 0.7019 - val_loss: 0.6334 - val_accuracy: 0.6553\n",
      "Epoch 41/100\n",
      "48/48 [==============================] - 0s 2ms/step - loss: 0.5933 - accuracy: 0.7106 - val_loss: 0.6324 - val_accuracy: 0.6553\n",
      "Epoch 42/100\n",
      "48/48 [==============================] - 0s 2ms/step - loss: 0.5840 - accuracy: 0.6950 - val_loss: 0.6317 - val_accuracy: 0.6553\n",
      "Epoch 43/100\n",
      "48/48 [==============================] - 0s 2ms/step - loss: 0.6043 - accuracy: 0.6782 - val_loss: 0.6319 - val_accuracy: 0.6553\n",
      "Epoch 44/100\n",
      "48/48 [==============================] - 0s 1ms/step - loss: 0.6285 - accuracy: 0.6829 - val_loss: 0.6305 - val_accuracy: 0.6553\n",
      "Epoch 45/100\n",
      "48/48 [==============================] - 0s 2ms/step - loss: 0.6029 - accuracy: 0.6960 - val_loss: 0.6309 - val_accuracy: 0.6553\n",
      "Epoch 46/100\n",
      "48/48 [==============================] - 0s 2ms/step - loss: 0.5741 - accuracy: 0.7098 - val_loss: 0.6296 - val_accuracy: 0.6553\n",
      "Epoch 47/100\n",
      "48/48 [==============================] - 0s 1ms/step - loss: 0.6238 - accuracy: 0.6517 - val_loss: 0.6296 - val_accuracy: 0.6553\n",
      "Epoch 48/100\n",
      "48/48 [==============================] - 0s 2ms/step - loss: 0.5865 - accuracy: 0.7087 - val_loss: 0.6292 - val_accuracy: 0.6596\n",
      "Epoch 49/100\n",
      "48/48 [==============================] - 0s 2ms/step - loss: 0.5859 - accuracy: 0.6945 - val_loss: 0.6281 - val_accuracy: 0.6596\n",
      "Epoch 50/100\n",
      "48/48 [==============================] - 0s 1ms/step - loss: 0.6172 - accuracy: 0.6719 - val_loss: 0.6275 - val_accuracy: 0.6596\n",
      "Epoch 51/100\n",
      "48/48 [==============================] - 0s 1ms/step - loss: 0.6145 - accuracy: 0.6855 - val_loss: 0.6276 - val_accuracy: 0.6596\n",
      "Epoch 52/100\n",
      "48/48 [==============================] - 0s 2ms/step - loss: 0.6261 - accuracy: 0.6563 - val_loss: 0.6264 - val_accuracy: 0.6596\n",
      "Epoch 53/100\n",
      "48/48 [==============================] - 0s 2ms/step - loss: 0.6069 - accuracy: 0.6662 - val_loss: 0.6264 - val_accuracy: 0.6596\n",
      "Epoch 54/100\n",
      "48/48 [==============================] - 0s 2ms/step - loss: 0.5793 - accuracy: 0.7080 - val_loss: 0.6254 - val_accuracy: 0.6596\n",
      "Epoch 55/100\n",
      "48/48 [==============================] - 0s 2ms/step - loss: 0.6090 - accuracy: 0.6761 - val_loss: 0.6250 - val_accuracy: 0.6596\n",
      "Epoch 56/100\n",
      "48/48 [==============================] - 0s 2ms/step - loss: 0.6110 - accuracy: 0.6588 - val_loss: 0.6248 - val_accuracy: 0.6596\n",
      "Epoch 57/100\n",
      "48/48 [==============================] - 0s 2ms/step - loss: 0.6116 - accuracy: 0.6651 - val_loss: 0.6242 - val_accuracy: 0.6596\n",
      "Epoch 58/100\n",
      "48/48 [==============================] - 0s 3ms/step - loss: 0.6062 - accuracy: 0.6774 - val_loss: 0.6244 - val_accuracy: 0.6638\n"
     ]
    },
    {
     "name": "stdout",
     "output_type": "stream",
     "text": [
      "Epoch 59/100\n",
      "48/48 [==============================] - 0s 2ms/step - loss: 0.5676 - accuracy: 0.7056 - val_loss: 0.6238 - val_accuracy: 0.6681\n",
      "Epoch 60/100\n",
      "48/48 [==============================] - 0s 2ms/step - loss: 0.5855 - accuracy: 0.6961 - val_loss: 0.6229 - val_accuracy: 0.6638\n",
      "Epoch 61/100\n",
      "48/48 [==============================] - 0s 2ms/step - loss: 0.5817 - accuracy: 0.7005 - val_loss: 0.6218 - val_accuracy: 0.6638\n",
      "Epoch 62/100\n",
      "48/48 [==============================] - 0s 1ms/step - loss: 0.5845 - accuracy: 0.6804 - val_loss: 0.6219 - val_accuracy: 0.6681\n",
      "Epoch 63/100\n",
      "48/48 [==============================] - 0s 1ms/step - loss: 0.5719 - accuracy: 0.7191 - val_loss: 0.6218 - val_accuracy: 0.6681\n",
      "Epoch 64/100\n",
      "48/48 [==============================] - 0s 1ms/step - loss: 0.5536 - accuracy: 0.7439 - val_loss: 0.6217 - val_accuracy: 0.6681\n",
      "Epoch 65/100\n",
      "48/48 [==============================] - 0s 1ms/step - loss: 0.5605 - accuracy: 0.7217 - val_loss: 0.6211 - val_accuracy: 0.6681\n",
      "Epoch 66/100\n",
      "48/48 [==============================] - 0s 2ms/step - loss: 0.6112 - accuracy: 0.6629 - val_loss: 0.6203 - val_accuracy: 0.6638\n",
      "Epoch 67/100\n",
      "48/48 [==============================] - 0s 1ms/step - loss: 0.5922 - accuracy: 0.6797 - val_loss: 0.6210 - val_accuracy: 0.6681\n",
      "Epoch 68/100\n",
      "48/48 [==============================] - 0s 2ms/step - loss: 0.6038 - accuracy: 0.6839 - val_loss: 0.6205 - val_accuracy: 0.6681\n",
      "Epoch 69/100\n",
      "48/48 [==============================] - 0s 1ms/step - loss: 0.6003 - accuracy: 0.6715 - val_loss: 0.6200 - val_accuracy: 0.6681\n",
      "Epoch 70/100\n",
      "48/48 [==============================] - 0s 2ms/step - loss: 0.5973 - accuracy: 0.6852 - val_loss: 0.6201 - val_accuracy: 0.6681\n",
      "Epoch 71/100\n",
      "48/48 [==============================] - 0s 1ms/step - loss: 0.5828 - accuracy: 0.7036 - val_loss: 0.6205 - val_accuracy: 0.6681\n",
      "Epoch 72/100\n",
      "48/48 [==============================] - 0s 2ms/step - loss: 0.5843 - accuracy: 0.6902 - val_loss: 0.6190 - val_accuracy: 0.6681\n",
      "Epoch 73/100\n",
      "48/48 [==============================] - 0s 1ms/step - loss: 0.6092 - accuracy: 0.6815 - val_loss: 0.6189 - val_accuracy: 0.6681\n",
      "Epoch 74/100\n",
      "48/48 [==============================] - 0s 2ms/step - loss: 0.5659 - accuracy: 0.7021 - val_loss: 0.6182 - val_accuracy: 0.6681\n",
      "Epoch 75/100\n",
      "48/48 [==============================] - 0s 1ms/step - loss: 0.5442 - accuracy: 0.7455 - val_loss: 0.6186 - val_accuracy: 0.6681\n",
      "Epoch 76/100\n",
      "48/48 [==============================] - 0s 2ms/step - loss: 0.5977 - accuracy: 0.6967 - val_loss: 0.6181 - val_accuracy: 0.6681\n",
      "Epoch 77/100\n",
      "48/48 [==============================] - 0s 1ms/step - loss: 0.5758 - accuracy: 0.7173 - val_loss: 0.6181 - val_accuracy: 0.6681\n",
      "Epoch 78/100\n",
      "48/48 [==============================] - 0s 2ms/step - loss: 0.5614 - accuracy: 0.7109 - val_loss: 0.6173 - val_accuracy: 0.6681\n",
      "Epoch 79/100\n",
      "48/48 [==============================] - 0s 2ms/step - loss: 0.5674 - accuracy: 0.7112 - val_loss: 0.6176 - val_accuracy: 0.6681\n",
      "Epoch 80/100\n",
      "48/48 [==============================] - 0s 2ms/step - loss: 0.5810 - accuracy: 0.6875 - val_loss: 0.6167 - val_accuracy: 0.6681\n",
      "Epoch 81/100\n",
      "48/48 [==============================] - 0s 2ms/step - loss: 0.5599 - accuracy: 0.7269 - val_loss: 0.6167 - val_accuracy: 0.6681\n",
      "Epoch 82/100\n",
      "48/48 [==============================] - 0s 1ms/step - loss: 0.6157 - accuracy: 0.6691 - val_loss: 0.6163 - val_accuracy: 0.6681\n",
      "Epoch 83/100\n",
      "48/48 [==============================] - 0s 2ms/step - loss: 0.5566 - accuracy: 0.7128 - val_loss: 0.6161 - val_accuracy: 0.6681\n",
      "Epoch 84/100\n",
      "48/48 [==============================] - 0s 1ms/step - loss: 0.5972 - accuracy: 0.6577 - val_loss: 0.6156 - val_accuracy: 0.6681\n",
      "Epoch 85/100\n",
      "48/48 [==============================] - 0s 2ms/step - loss: 0.6099 - accuracy: 0.6505 - val_loss: 0.6156 - val_accuracy: 0.6681\n",
      "Epoch 86/100\n",
      "48/48 [==============================] - 0s 2ms/step - loss: 0.6012 - accuracy: 0.6767 - val_loss: 0.6157 - val_accuracy: 0.6681\n",
      "Epoch 87/100\n",
      "48/48 [==============================] - 0s 1ms/step - loss: 0.6059 - accuracy: 0.6500 - val_loss: 0.6155 - val_accuracy: 0.6681\n",
      "Epoch 88/100\n",
      "48/48 [==============================] - 0s 2ms/step - loss: 0.5870 - accuracy: 0.6686 - val_loss: 0.6155 - val_accuracy: 0.6681\n",
      "Epoch 89/100\n",
      "48/48 [==============================] - 0s 2ms/step - loss: 0.5937 - accuracy: 0.6928 - val_loss: 0.6154 - val_accuracy: 0.6681\n",
      "Epoch 90/100\n",
      "48/48 [==============================] - 0s 2ms/step - loss: 0.5832 - accuracy: 0.6803 - val_loss: 0.6145 - val_accuracy: 0.6681\n",
      "Epoch 91/100\n",
      "48/48 [==============================] - 0s 1ms/step - loss: 0.5580 - accuracy: 0.7109 - val_loss: 0.6142 - val_accuracy: 0.6681\n",
      "Epoch 92/100\n",
      "48/48 [==============================] - 0s 1ms/step - loss: 0.5418 - accuracy: 0.7313 - val_loss: 0.6147 - val_accuracy: 0.6681\n",
      "Epoch 93/100\n",
      "48/48 [==============================] - 0s 2ms/step - loss: 0.5824 - accuracy: 0.6736 - val_loss: 0.6136 - val_accuracy: 0.6681\n",
      "Epoch 94/100\n",
      "48/48 [==============================] - 0s 2ms/step - loss: 0.6240 - accuracy: 0.6540 - val_loss: 0.6131 - val_accuracy: 0.6681\n",
      "Epoch 95/100\n",
      "48/48 [==============================] - 0s 2ms/step - loss: 0.5759 - accuracy: 0.7305 - val_loss: 0.6138 - val_accuracy: 0.6681\n",
      "Epoch 96/100\n",
      "48/48 [==============================] - 0s 1ms/step - loss: 0.5914 - accuracy: 0.6785 - val_loss: 0.6127 - val_accuracy: 0.6681\n",
      "Epoch 97/100\n",
      "48/48 [==============================] - 0s 1ms/step - loss: 0.5707 - accuracy: 0.7048 - val_loss: 0.6132 - val_accuracy: 0.6681\n",
      "Epoch 98/100\n",
      "48/48 [==============================] - 0s 2ms/step - loss: 0.6280 - accuracy: 0.6505 - val_loss: 0.6129 - val_accuracy: 0.6681\n",
      "Epoch 99/100\n",
      "48/48 [==============================] - 0s 1ms/step - loss: 0.5825 - accuracy: 0.6716 - val_loss: 0.6127 - val_accuracy: 0.6681\n",
      "Epoch 100/100\n",
      "48/48 [==============================] - 0s 2ms/step - loss: 0.5692 - accuracy: 0.6938 - val_loss: 0.6126 - val_accuracy: 0.6681\n"
     ]
    }
   ],
   "source": [
    "model_history = model.fit(X_train, y_train, validation_split=0.33, batch_size=10, epochs=100)"
   ]
  },
  {
   "cell_type": "code",
   "execution_count": 22,
   "metadata": {},
   "outputs": [],
   "source": [
    "y_pred = model.predict(X_test)\n",
    "y_pred = (y_pred >0.5)"
   ]
  },
  {
   "cell_type": "code",
   "execution_count": 23,
   "metadata": {},
   "outputs": [
    {
     "data": {
      "text/plain": [
       "array([[False],\n",
       "       [False],\n",
       "       [False],\n",
       "       [ True],\n",
       "       [ True],\n",
       "       [False],\n",
       "       [False],\n",
       "       [ True],\n",
       "       [ True],\n",
       "       [False],\n",
       "       [False],\n",
       "       [False],\n",
       "       [False],\n",
       "       [ True],\n",
       "       [False],\n",
       "       [False],\n",
       "       [False],\n",
       "       [ True],\n",
       "       [False],\n",
       "       [ True],\n",
       "       [False],\n",
       "       [False],\n",
       "       [False],\n",
       "       [False],\n",
       "       [False],\n",
       "       [ True],\n",
       "       [False],\n",
       "       [False],\n",
       "       [ True],\n",
       "       [False],\n",
       "       [False],\n",
       "       [False],\n",
       "       [False],\n",
       "       [False],\n",
       "       [False],\n",
       "       [False],\n",
       "       [False],\n",
       "       [False],\n",
       "       [False],\n",
       "       [False],\n",
       "       [ True],\n",
       "       [False],\n",
       "       [False],\n",
       "       [False],\n",
       "       [ True],\n",
       "       [False],\n",
       "       [False],\n",
       "       [ True],\n",
       "       [False],\n",
       "       [ True],\n",
       "       [False],\n",
       "       [ True],\n",
       "       [ True],\n",
       "       [False],\n",
       "       [False],\n",
       "       [False],\n",
       "       [False],\n",
       "       [False],\n",
       "       [False],\n",
       "       [False],\n",
       "       [False],\n",
       "       [ True],\n",
       "       [ True],\n",
       "       [False],\n",
       "       [ True],\n",
       "       [False],\n",
       "       [False],\n",
       "       [ True],\n",
       "       [ True],\n",
       "       [False],\n",
       "       [False],\n",
       "       [ True],\n",
       "       [ True],\n",
       "       [False],\n",
       "       [False],\n",
       "       [False],\n",
       "       [ True],\n",
       "       [False],\n",
       "       [False],\n",
       "       [False],\n",
       "       [False],\n",
       "       [False],\n",
       "       [ True],\n",
       "       [False],\n",
       "       [False],\n",
       "       [False],\n",
       "       [ True],\n",
       "       [False],\n",
       "       [False],\n",
       "       [ True],\n",
       "       [False],\n",
       "       [False],\n",
       "       [ True],\n",
       "       [ True],\n",
       "       [False],\n",
       "       [False],\n",
       "       [ True],\n",
       "       [False],\n",
       "       [False],\n",
       "       [False],\n",
       "       [False],\n",
       "       [False],\n",
       "       [False],\n",
       "       [False],\n",
       "       [False],\n",
       "       [False],\n",
       "       [False],\n",
       "       [ True],\n",
       "       [False],\n",
       "       [False],\n",
       "       [False],\n",
       "       [ True],\n",
       "       [False],\n",
       "       [False],\n",
       "       [ True],\n",
       "       [False],\n",
       "       [False],\n",
       "       [ True],\n",
       "       [False],\n",
       "       [ True],\n",
       "       [False],\n",
       "       [False],\n",
       "       [False],\n",
       "       [False],\n",
       "       [False],\n",
       "       [False],\n",
       "       [False],\n",
       "       [False],\n",
       "       [False],\n",
       "       [False],\n",
       "       [False],\n",
       "       [False],\n",
       "       [False],\n",
       "       [False],\n",
       "       [False],\n",
       "       [False],\n",
       "       [False],\n",
       "       [False],\n",
       "       [False],\n",
       "       [False],\n",
       "       [False],\n",
       "       [ True],\n",
       "       [False],\n",
       "       [False],\n",
       "       [False],\n",
       "       [False],\n",
       "       [False],\n",
       "       [False],\n",
       "       [ True],\n",
       "       [False],\n",
       "       [ True],\n",
       "       [False],\n",
       "       [False],\n",
       "       [False],\n",
       "       [False],\n",
       "       [False],\n",
       "       [ True],\n",
       "       [False],\n",
       "       [False],\n",
       "       [False],\n",
       "       [False],\n",
       "       [False],\n",
       "       [ True],\n",
       "       [False],\n",
       "       [False],\n",
       "       [False],\n",
       "       [False],\n",
       "       [False],\n",
       "       [False],\n",
       "       [False],\n",
       "       [False],\n",
       "       [ True],\n",
       "       [False],\n",
       "       [False],\n",
       "       [False],\n",
       "       [False],\n",
       "       [ True],\n",
       "       [False],\n",
       "       [False]])"
      ]
     },
     "execution_count": 23,
     "metadata": {},
     "output_type": "execute_result"
    }
   ],
   "source": [
    "y_pred"
   ]
  },
  {
   "cell_type": "code",
   "execution_count": 24,
   "metadata": {},
   "outputs": [
    {
     "data": {
      "text/plain": [
       "array([[99, 11],\n",
       "       [39, 30]], dtype=int64)"
      ]
     },
     "execution_count": 24,
     "metadata": {},
     "output_type": "execute_result"
    }
   ],
   "source": [
    "#Confusion Matrix\n",
    "from sklearn.metrics import confusion_matrix\n",
    "cm = confusion_matrix(y_test, y_pred)\n",
    "cm"
   ]
  },
  {
   "cell_type": "code",
   "execution_count": 26,
   "metadata": {},
   "outputs": [
    {
     "data": {
      "text/plain": [
       "dict_keys(['loss', 'accuracy', 'val_loss', 'val_accuracy'])"
      ]
     },
     "execution_count": 26,
     "metadata": {},
     "output_type": "execute_result"
    }
   ],
   "source": [
    "history_dict = model_history.history\n",
    "history_dict.keys()"
   ]
  },
  {
   "cell_type": "code",
   "execution_count": 28,
   "metadata": {},
   "outputs": [
    {
     "data": {
      "image/png": "[encoded data removed]",
      "text/plain": [
       "<Figure size 432x288 with 1 Axes>"
      ]
     },
     "metadata": {
      "needs_background": "light"
     },
     "output_type": "display_data"
    }
   ],
   "source": [
    "acc = history_dict['accuracy']\n",
    "val_acc = history_dict['val_accuracy']\n",
    "loss = history_dict['loss']\n",
    "val_loss = history_dict[\"val_loss\"]\n",
    "\n",
    "\n",
    "epochs = range(1, len(acc) +1)\n",
    "\n",
    "\n",
    "plt.plot(epochs, loss, 'bo', label=\"Training Loss\")       # 'bo' is for \"blue dot\"\n",
    "plt.plot(epochs, val_loss, 'b', label=\"Validation Loss\")  # 'b' is for  \"solid blue line\"\n",
    "\n",
    "plt.title(\"Traing and Validation loss\")\n",
    "plt.xlabel(\"Epochs\")\n",
    "plt.ylabel(\"Loss\")\n",
    "plt.legend()\n",
    "plt.show()"
   ]
  },
  {
   "cell_type": "code",
   "execution_count": 29,
   "metadata": {},
   "outputs": [
    {
     "data": {
      "image/png": "[encoded data removed]",
      "text/plain": [
       "<Figure size 432x288 with 1 Axes>"
      ]
     },
     "metadata": {
      "needs_background": "light"
     },
     "output_type": "display_data"
    }
   ],
   "source": [
    "#Summerize history for accuracy\n",
    "plt.plot(model_history.history['accuracy'])\n",
    "plt.plot(model_history.history['val_accuracy'])\n",
    "plt.title('Model_Accuracy')\n",
    "plt.ylabel('accuracy')\n",
    "plt.xlabel('epoch')\n",
    "plt.legend(['train', 'test'], loc=\"upper left\")\n",
    "plt.show()"
   ]
  },
  {
   "cell_type": "code",
   "execution_count": 34,
   "metadata": {},
   "outputs": [],
   "source": [
    "from tensorflow.keras.wrappers.scikit_learn import KerasClassifier\n",
    "from sklearn.model_selection import cross_val_score"
   ]
  },
  {
   "cell_type": "code",
   "execution_count": 35,
   "metadata": {},
   "outputs": [],
   "source": [
    "def build_classifier():\n",
    "    model = Sequential()\n",
    "    model.add(Dense(input_dim=4, units=8, activation='relu', kernel_initializer='he_uniform'))\n",
    "    model.add(Dense(input_dim=4, units=4, activation='relu', kernel_initializer='he_uniform'))\n",
    "    model.add(Dense(units = 1, kernel_initializer='glorot_uniform', activation='sigmoid'))\n",
    "    model.compile(optimizer='Adamax', loss='binary_crossentropy', metrics=['accuracy'])\n",
    "    \n",
    "    return model\n"
   ]
  },
  {
   "cell_type": "code",
   "execution_count": 36,
   "metadata": {},
   "outputs": [],
   "source": [
    "classifier = KerasClassifier(build_fn = build_classifier, batch_size=100, epochs=15)\n",
    "accuiracy = cross_val_score(estimator=classifier, X=X_train, y = y_train, cv=5, n_jobs=-1)"
   ]
  },
  {
   "cell_type": "code",
   "execution_count": 37,
   "metadata": {},
   "outputs": [
    {
     "data": {
      "text/plain": [
       "array([0.53846157, 0.67132866, 0.62676054, 0.65492958, 0.52112675])"
      ]
     },
     "execution_count": 37,
     "metadata": {},
     "output_type": "execute_result"
    }
   ],
   "source": [
    "accuiracy"
   ]
  },
  {
   "cell_type": "code",
   "execution_count": 39,
   "metadata": {},
   "outputs": [
    {
     "data": {
      "text/plain": [
       "0.6025214195251465"
      ]
     },
     "execution_count": 39,
     "metadata": {},
     "output_type": "execute_result"
    }
   ],
   "source": [
    "accuiracy.mean()"
   ]
  },
  {
   "cell_type": "code",
   "execution_count": 40,
   "metadata": {},
   "outputs": [
    {
     "data": {
      "text/plain": [
       "0.06131450820761785"
      ]
     },
     "execution_count": 40,
     "metadata": {},
     "output_type": "execute_result"
    }
   ],
   "source": [
    "accuiracy.std()"
   ]
  },
  {
   "cell_type": "code",
   "execution_count": null,
   "metadata": {},
   "outputs": [],
   "source": []
  }
 ],
 "metadata": {
  "kernelspec": {
   "display_name": "Python 3",
   "language": "python",
   "name": "python3"
  },
  "language_info": {
   "codemirror_mode": {
    "name": "ipython",
    "version": 3
   },
   "file_extension": ".py",
   "mimetype": "text/x-python",
   "name": "python",
   "nbconvert_exporter": "python",
   "pygments_lexer": "ipython3",
   "version": "3.6.12"
  }
 },
 "nbformat": 4,
 "nbformat_minor": 4
}
