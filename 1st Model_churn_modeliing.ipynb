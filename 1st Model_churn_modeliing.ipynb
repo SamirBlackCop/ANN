{
 "cells": [
  {
   "cell_type": "code",
   "execution_count": 1,
   "metadata": {},
   "outputs": [],
   "source": [
    "import numpy as np\n",
    "import pandas as pd\n",
    "import matplotlib.pyplot as plt\n",
    "%matplotlib inline"
   ]
  },
  {
   "cell_type": "code",
   "execution_count": 2,
   "metadata": {},
   "outputs": [
    {
     "data": {
      "text/html": [
       "<div>\n",
       "<style scoped>\n",
       "    .dataframe tbody tr th:only-of-type {\n",
       "        vertical-align: middle;\n",
       "    }\n",
       "\n",
       "    .dataframe tbody tr th {\n",
       "        vertical-align: top;\n",
       "    }\n",
       "\n",
       "    .dataframe thead th {\n",
       "        text-align: right;\n",
       "    }\n",
       "</style>\n",
       "<table border=\"1\" class=\"dataframe\">\n",
       "  <thead>\n",
       "    <tr style=\"text-align: right;\">\n",
       "      <th></th>\n",
       "      <th>RowNumber</th>\n",
       "      <th>CustomerId</th>\n",
       "      <th>Surname</th>\n",
       "      <th>CreditScore</th>\n",
       "      <th>Geography</th>\n",
       "      <th>Gender</th>\n",
       "      <th>Age</th>\n",
       "      <th>Tenure</th>\n",
       "      <th>Balance</th>\n",
       "      <th>NumOfProducts</th>\n",
       "      <th>HasCrCard</th>\n",
       "      <th>IsActiveMember</th>\n",
       "      <th>EstimatedSalary</th>\n",
       "      <th>Exited</th>\n",
       "    </tr>\n",
       "  </thead>\n",
       "  <tbody>\n",
       "    <tr>\n",
       "      <th>0</th>\n",
       "      <td>1</td>\n",
       "      <td>15634602</td>\n",
       "      <td>Hargrave</td>\n",
       "      <td>619</td>\n",
       "      <td>France</td>\n",
       "      <td>Female</td>\n",
       "      <td>42</td>\n",
       "      <td>2</td>\n",
       "      <td>0.00</td>\n",
       "      <td>1</td>\n",
       "      <td>1</td>\n",
       "      <td>1</td>\n",
       "      <td>101348.88</td>\n",
       "      <td>1</td>\n",
       "    </tr>\n",
       "    <tr>\n",
       "      <th>1</th>\n",
       "      <td>2</td>\n",
       "      <td>15647311</td>\n",
       "      <td>Hill</td>\n",
       "      <td>608</td>\n",
       "      <td>Spain</td>\n",
       "      <td>Female</td>\n",
       "      <td>41</td>\n",
       "      <td>1</td>\n",
       "      <td>83807.86</td>\n",
       "      <td>1</td>\n",
       "      <td>0</td>\n",
       "      <td>1</td>\n",
       "      <td>112542.58</td>\n",
       "      <td>0</td>\n",
       "    </tr>\n",
       "    <tr>\n",
       "      <th>2</th>\n",
       "      <td>3</td>\n",
       "      <td>15619304</td>\n",
       "      <td>Onio</td>\n",
       "      <td>502</td>\n",
       "      <td>France</td>\n",
       "      <td>Female</td>\n",
       "      <td>42</td>\n",
       "      <td>8</td>\n",
       "      <td>159660.80</td>\n",
       "      <td>3</td>\n",
       "      <td>1</td>\n",
       "      <td>0</td>\n",
       "      <td>113931.57</td>\n",
       "      <td>1</td>\n",
       "    </tr>\n",
       "    <tr>\n",
       "      <th>3</th>\n",
       "      <td>4</td>\n",
       "      <td>15701354</td>\n",
       "      <td>Boni</td>\n",
       "      <td>699</td>\n",
       "      <td>France</td>\n",
       "      <td>Female</td>\n",
       "      <td>39</td>\n",
       "      <td>1</td>\n",
       "      <td>0.00</td>\n",
       "      <td>2</td>\n",
       "      <td>0</td>\n",
       "      <td>0</td>\n",
       "      <td>93826.63</td>\n",
       "      <td>0</td>\n",
       "    </tr>\n",
       "    <tr>\n",
       "      <th>4</th>\n",
       "      <td>5</td>\n",
       "      <td>15737888</td>\n",
       "      <td>Mitchell</td>\n",
       "      <td>850</td>\n",
       "      <td>Spain</td>\n",
       "      <td>Female</td>\n",
       "      <td>43</td>\n",
       "      <td>2</td>\n",
       "      <td>125510.82</td>\n",
       "      <td>1</td>\n",
       "      <td>1</td>\n",
       "      <td>1</td>\n",
       "      <td>79084.10</td>\n",
       "      <td>0</td>\n",
       "    </tr>\n",
       "  </tbody>\n",
       "</table>\n",
       "</div>"
      ],
      "text/plain": [
       "   RowNumber  CustomerId   Surname  CreditScore Geography  Gender  Age  \\\n",
       "0          1    15634602  Hargrave          619    France  Female   42   \n",
       "1          2    15647311      Hill          608     Spain  Female   41   \n",
       "2          3    15619304      Onio          502    France  Female   42   \n",
       "3          4    15701354      Boni          699    France  Female   39   \n",
       "4          5    15737888  Mitchell          850     Spain  Female   43   \n",
       "\n",
       "   Tenure    Balance  NumOfProducts  HasCrCard  IsActiveMember  \\\n",
       "0       2       0.00              1          1               1   \n",
       "1       1   83807.86              1          0               1   \n",
       "2       8  159660.80              3          1               0   \n",
       "3       1       0.00              2          0               0   \n",
       "4       2  125510.82              1          1               1   \n",
       "\n",
       "   EstimatedSalary  Exited  \n",
       "0        101348.88       1  \n",
       "1        112542.58       0  \n",
       "2        113931.57       1  \n",
       "3         93826.63       0  \n",
       "4         79084.10       0  "
      ]
     },
     "execution_count": 2,
     "metadata": {},
     "output_type": "execute_result"
    }
   ],
   "source": [
    "dataset  = pd.read_csv('Churn_Modelling.csv')\n",
    "dataset.head()"
   ]
  },
  {
   "cell_type": "code",
   "execution_count": 3,
   "metadata": {},
   "outputs": [],
   "source": [
    "X = dataset.iloc[:, 3: -1]\n",
    "y = dataset.iloc[:, -1]"
   ]
  },
  {
   "cell_type": "code",
   "execution_count": 4,
   "metadata": {},
   "outputs": [],
   "source": [
    "#One_Hot_Encoding for Geography & Gender\n",
    "geography = pd.get_dummies(X['Geography'], drop_first=True)\n",
    "gender = pd.get_dummies(X[\"Gender\"], drop_first=True)"
   ]
  },
  {
   "cell_type": "code",
   "execution_count": 5,
   "metadata": {},
   "outputs": [
    {
     "data": {
      "text/html": [
       "<div>\n",
       "<style scoped>\n",
       "    .dataframe tbody tr th:only-of-type {\n",
       "        vertical-align: middle;\n",
       "    }\n",
       "\n",
       "    .dataframe tbody tr th {\n",
       "        vertical-align: top;\n",
       "    }\n",
       "\n",
       "    .dataframe thead th {\n",
       "        text-align: right;\n",
       "    }\n",
       "</style>\n",
       "<table border=\"1\" class=\"dataframe\">\n",
       "  <thead>\n",
       "    <tr style=\"text-align: right;\">\n",
       "      <th></th>\n",
       "      <th>CreditScore</th>\n",
       "      <th>Age</th>\n",
       "      <th>Tenure</th>\n",
       "      <th>Balance</th>\n",
       "      <th>NumOfProducts</th>\n",
       "      <th>HasCrCard</th>\n",
       "      <th>IsActiveMember</th>\n",
       "      <th>EstimatedSalary</th>\n",
       "      <th>Germany</th>\n",
       "      <th>Spain</th>\n",
       "      <th>Male</th>\n",
       "    </tr>\n",
       "  </thead>\n",
       "  <tbody>\n",
       "    <tr>\n",
       "      <th>0</th>\n",
       "      <td>619</td>\n",
       "      <td>42</td>\n",
       "      <td>2</td>\n",
       "      <td>0.00</td>\n",
       "      <td>1</td>\n",
       "      <td>1</td>\n",
       "      <td>1</td>\n",
       "      <td>101348.88</td>\n",
       "      <td>0</td>\n",
       "      <td>0</td>\n",
       "      <td>0</td>\n",
       "    </tr>\n",
       "    <tr>\n",
       "      <th>1</th>\n",
       "      <td>608</td>\n",
       "      <td>41</td>\n",
       "      <td>1</td>\n",
       "      <td>83807.86</td>\n",
       "      <td>1</td>\n",
       "      <td>0</td>\n",
       "      <td>1</td>\n",
       "      <td>112542.58</td>\n",
       "      <td>0</td>\n",
       "      <td>1</td>\n",
       "      <td>0</td>\n",
       "    </tr>\n",
       "    <tr>\n",
       "      <th>2</th>\n",
       "      <td>502</td>\n",
       "      <td>42</td>\n",
       "      <td>8</td>\n",
       "      <td>159660.80</td>\n",
       "      <td>3</td>\n",
       "      <td>1</td>\n",
       "      <td>0</td>\n",
       "      <td>113931.57</td>\n",
       "      <td>0</td>\n",
       "      <td>0</td>\n",
       "      <td>0</td>\n",
       "    </tr>\n",
       "    <tr>\n",
       "      <th>3</th>\n",
       "      <td>699</td>\n",
       "      <td>39</td>\n",
       "      <td>1</td>\n",
       "      <td>0.00</td>\n",
       "      <td>2</td>\n",
       "      <td>0</td>\n",
       "      <td>0</td>\n",
       "      <td>93826.63</td>\n",
       "      <td>0</td>\n",
       "      <td>0</td>\n",
       "      <td>0</td>\n",
       "    </tr>\n",
       "    <tr>\n",
       "      <th>4</th>\n",
       "      <td>850</td>\n",
       "      <td>43</td>\n",
       "      <td>2</td>\n",
       "      <td>125510.82</td>\n",
       "      <td>1</td>\n",
       "      <td>1</td>\n",
       "      <td>1</td>\n",
       "      <td>79084.10</td>\n",
       "      <td>0</td>\n",
       "      <td>1</td>\n",
       "      <td>0</td>\n",
       "    </tr>\n",
       "  </tbody>\n",
       "</table>\n",
       "</div>"
      ],
      "text/plain": [
       "   CreditScore  Age  Tenure    Balance  NumOfProducts  HasCrCard  \\\n",
       "0          619   42       2       0.00              1          1   \n",
       "1          608   41       1   83807.86              1          0   \n",
       "2          502   42       8  159660.80              3          1   \n",
       "3          699   39       1       0.00              2          0   \n",
       "4          850   43       2  125510.82              1          1   \n",
       "\n",
       "   IsActiveMember  EstimatedSalary  Germany  Spain  Male  \n",
       "0               1        101348.88        0      0     0  \n",
       "1               1        112542.58        0      1     0  \n",
       "2               0        113931.57        0      0     0  \n",
       "3               0         93826.63        0      0     0  \n",
       "4               1         79084.10        0      1     0  "
      ]
     },
     "execution_count": 5,
     "metadata": {},
     "output_type": "execute_result"
    }
   ],
   "source": [
    "#Concatenating The Geography & Gender to X\n",
    "X = pd.concat([X,geography, gender], axis=1)\n",
    "X = X.drop([\"Gender\", \"Geography\"], axis=1)\n",
    "X.head()"
   ]
  },
  {
   "cell_type": "code",
   "execution_count": 6,
   "metadata": {},
   "outputs": [],
   "source": [
    "#Spliting The Dataset into Training & Testing\n",
    "from sklearn.model_selection import train_test_split\n",
    "X_train, X_test, y_train, y_test = train_test_split(X, y, test_size=0.2, random_state=0)"
   ]
  },
  {
   "cell_type": "code",
   "execution_count": 7,
   "metadata": {},
   "outputs": [],
   "source": [
    "#Feature Scaling\n",
    "from sklearn.preprocessing import StandardScaler\n",
    "sc = StandardScaler()\n",
    "X_train = sc.fit_transform(X_train)\n",
    "X_test = sc.transform(X_test)"
   ]
  },
  {
   "cell_type": "code",
   "execution_count": 8,
   "metadata": {},
   "outputs": [],
   "source": [
    "# lets make ANN\n",
    "#Implementing Keras Library\n",
    "\n",
    "from tensorflow import keras\n",
    "from tensorflow.keras.models import Sequential\n",
    "from tensorflow.keras.layers import Dense\n",
    "from tensorflow.keras.layers import LeakyReLU, PReLU,ELU\n",
    "from tensorflow.keras.layers import Dropout"
   ]
  },
  {
   "cell_type": "code",
   "execution_count": 9,
   "metadata": {},
   "outputs": [],
   "source": [
    "#Initaiting The ANN\n",
    "classifier = Sequential()"
   ]
  },
  {
   "cell_type": "code",
   "execution_count": 10,
   "metadata": {},
   "outputs": [],
   "source": [
    "#Adding The input layer and first hidden laayer\n",
    "classifier.add(Dense(units = 6, kernel_initializer='he_uniform', activation='relu',input_dim=11))\n",
    "\n",
    "#Adding The second hidden laayer\n",
    "classifier.add(Dense(units = 6, kernel_initializer='he_uniform', activation='relu'))\n",
    "\n",
    "#Adding The Output layers\n",
    "classifier.add(Dense(units = 1, kernel_initializer='glorot_uniform', activation='sigmoid'))\n",
    "\n",
    "# Compiling The ANN\n",
    "classifier.compile(optimizer='Adamax', loss='binary_crossentropy', metrics=['accuracy'])"
   ]
  },
  {
   "cell_type": "code",
   "execution_count": 11,
   "metadata": {
    "scrolled": true
   },
   "outputs": [
    {
     "name": "stdout",
     "output_type": "stream",
     "text": [
      "Model: \"sequential\"\n",
      "_________________________________________________________________\n",
      "Layer (type)                 Output Shape              Param #   \n",
      "=================================================================\n",
      "dense (Dense)                (None, 6)                 72        \n",
      "_________________________________________________________________\n",
      "dense_1 (Dense)              (None, 6)                 42        \n",
      "_________________________________________________________________\n",
      "dense_2 (Dense)              (None, 1)                 7         \n",
      "=================================================================\n",
      "Total params: 121\n",
      "Trainable params: 121\n",
      "Non-trainable params: 0\n",
      "_________________________________________________________________\n"
     ]
    }
   ],
   "source": [
    "classifier.summary()"
   ]
  },
  {
   "cell_type": "code",
   "execution_count": 13,
   "metadata": {},
   "outputs": [
    {
     "ename": "AttributeError",
     "evalue": "module 'scipy.ndimage' has no attribute 'imread'",
     "output_type": "error",
     "traceback": [
      "\u001b[1;31m---------------------------------------------------------------------------\u001b[0m",
      "\u001b[1;31mAttributeError\u001b[0m                            Traceback (most recent call last)",
      "\u001b[1;32m<ipython-input-13-9132e03d0b71>\u001b[0m in \u001b[0;36m<module>\u001b[1;34m\u001b[0m\n\u001b[0;32m      2\u001b[0m \u001b[1;32mfrom\u001b[0m \u001b[0mscipy\u001b[0m \u001b[1;32mimport\u001b[0m \u001b[0mndimage\u001b[0m\u001b[1;33m\u001b[0m\u001b[1;33m\u001b[0m\u001b[0m\n\u001b[0;32m      3\u001b[0m \u001b[1;33m\u001b[0m\u001b[0m\n\u001b[1;32m----> 4\u001b[1;33m \u001b[0mimg\u001b[0m \u001b[1;33m=\u001b[0m \u001b[0mnp\u001b[0m\u001b[1;33m.\u001b[0m\u001b[0mexpand_dims\u001b[0m\u001b[1;33m(\u001b[0m\u001b[0mndimage\u001b[0m\u001b[1;33m.\u001b[0m\u001b[0mimread\u001b[0m\u001b[1;33m(\u001b[0m\u001b[1;34m'NN.PNG'\u001b[0m\u001b[1;33m)\u001b[0m\u001b[1;33m,\u001b[0m\u001b[1;36m0\u001b[0m\u001b[1;33m)\u001b[0m\u001b[1;33m\u001b[0m\u001b[1;33m\u001b[0m\u001b[0m\n\u001b[0m\u001b[0;32m      5\u001b[0m \u001b[1;31m#plt.imshow(img[0])\u001b[0m\u001b[1;33m\u001b[0m\u001b[1;33m\u001b[0m\u001b[1;33m\u001b[0m\u001b[0m\n",
      "\u001b[1;31mAttributeError\u001b[0m: module 'scipy.ndimage' has no attribute 'imread'"
     ]
    }
   ],
   "source": [
    "import numpy as np\n",
    "from scipy import ndimage\n",
    "\n",
    "img = np.expand_dims(ndimage.imread('NN.PNG'),0)\n",
    "#plt.imshow(img[0])"
   ]
  },
  {
   "cell_type": "code",
   "execution_count": 14,
   "metadata": {
    "scrolled": true
   },
   "outputs": [
    {
     "name": "stdout",
     "output_type": "stream",
     "text": [
      "Train on 5359 samples, validate on 2641 samples\n",
      "Epoch 1/100\n",
      "5359/5359 [==============================] - 1s 143us/sample - loss: 0.4249 - accuracy: 0.8127 - val_loss: 0.4404 - val_accuracy: 0.8058\n",
      "Epoch 2/100\n",
      "5359/5359 [==============================] - 1s 148us/sample - loss: 0.4214 - accuracy: 0.8156 - val_loss: 0.4372 - val_accuracy: 0.8050\n",
      "Epoch 3/100\n",
      "5359/5359 [==============================] - 1s 145us/sample - loss: 0.4179 - accuracy: 0.8173 - val_loss: 0.4338 - val_accuracy: 0.8099\n",
      "Epoch 4/100\n",
      "5359/5359 [==============================] - 1s 142us/sample - loss: 0.4143 - accuracy: 0.8203 - val_loss: 0.4302 - val_accuracy: 0.8133\n",
      "Epoch 5/100\n",
      "5359/5359 [==============================] - 1s 146us/sample - loss: 0.4105 - accuracy: 0.8238 - val_loss: 0.4267 - val_accuracy: 0.8152\n",
      "Epoch 6/100\n",
      "5359/5359 [==============================] - 1s 141us/sample - loss: 0.4069 - accuracy: 0.8283 - val_loss: 0.4230 - val_accuracy: 0.8175\n",
      "Epoch 7/100\n",
      "5359/5359 [==============================] - 1s 142us/sample - loss: 0.4029 - accuracy: 0.8319 - val_loss: 0.4194 - val_accuracy: 0.8201\n",
      "Epoch 8/100\n",
      "5359/5359 [==============================] - 1s 145us/sample - loss: 0.3989 - accuracy: 0.8349 - val_loss: 0.4155 - val_accuracy: 0.8201\n",
      "Epoch 9/100\n",
      "5359/5359 [==============================] - 1s 148us/sample - loss: 0.3946 - accuracy: 0.8358 - val_loss: 0.4117 - val_accuracy: 0.8205\n",
      "Epoch 10/100\n",
      "5359/5359 [==============================] - 1s 141us/sample - loss: 0.3907 - accuracy: 0.8390 - val_loss: 0.4079 - val_accuracy: 0.8228\n",
      "Epoch 11/100\n",
      "5359/5359 [==============================] - 1s 142us/sample - loss: 0.3869 - accuracy: 0.8414 - val_loss: 0.4047 - val_accuracy: 0.8236\n",
      "Epoch 12/100\n",
      "5359/5359 [==============================] - 1s 140us/sample - loss: 0.3833 - accuracy: 0.8419 - val_loss: 0.4010 - val_accuracy: 0.8236\n",
      "Epoch 13/100\n",
      "5359/5359 [==============================] - 1s 141us/sample - loss: 0.3795 - accuracy: 0.8429 - val_loss: 0.3977 - val_accuracy: 0.8266\n",
      "Epoch 14/100\n",
      "5359/5359 [==============================] - 1s 142us/sample - loss: 0.3759 - accuracy: 0.8457 - val_loss: 0.3948 - val_accuracy: 0.8270\n",
      "Epoch 15/100\n",
      "5359/5359 [==============================] - 1s 141us/sample - loss: 0.3725 - accuracy: 0.8462 - val_loss: 0.3919 - val_accuracy: 0.8273\n",
      "Epoch 16/100\n",
      "5359/5359 [==============================] - 1s 142us/sample - loss: 0.3692 - accuracy: 0.8490 - val_loss: 0.3890 - val_accuracy: 0.8292\n",
      "Epoch 17/100\n",
      "5359/5359 [==============================] - 1s 143us/sample - loss: 0.3662 - accuracy: 0.8505 - val_loss: 0.3864 - val_accuracy: 0.8296\n",
      "Epoch 18/100\n",
      "5359/5359 [==============================] - 1s 139us/sample - loss: 0.3634 - accuracy: 0.8520 - val_loss: 0.3841 - val_accuracy: 0.8300\n",
      "Epoch 19/100\n",
      "5359/5359 [==============================] - 1s 143us/sample - loss: 0.3609 - accuracy: 0.8535 - val_loss: 0.3819 - val_accuracy: 0.8304\n",
      "Epoch 20/100\n",
      "5359/5359 [==============================] - 1s 141us/sample - loss: 0.3584 - accuracy: 0.8530 - val_loss: 0.3798 - val_accuracy: 0.8315\n",
      "Epoch 21/100\n",
      "5359/5359 [==============================] - 1s 139us/sample - loss: 0.3562 - accuracy: 0.8530 - val_loss: 0.3778 - val_accuracy: 0.8349\n",
      "Epoch 22/100\n",
      "5359/5359 [==============================] - 1s 141us/sample - loss: 0.3543 - accuracy: 0.8546 - val_loss: 0.3761 - val_accuracy: 0.8353\n",
      "Epoch 23/100\n",
      "5359/5359 [==============================] - 1s 141us/sample - loss: 0.3524 - accuracy: 0.8530 - val_loss: 0.3743 - val_accuracy: 0.8376\n",
      "Epoch 24/100\n",
      "5359/5359 [==============================] - 1s 143us/sample - loss: 0.3507 - accuracy: 0.8541 - val_loss: 0.3732 - val_accuracy: 0.8379\n",
      "Epoch 25/100\n",
      "5359/5359 [==============================] - 1s 140us/sample - loss: 0.3495 - accuracy: 0.8554 - val_loss: 0.3722 - val_accuracy: 0.8383\n",
      "Epoch 26/100\n",
      "5359/5359 [==============================] - 1s 140us/sample - loss: 0.3483 - accuracy: 0.8556 - val_loss: 0.3709 - val_accuracy: 0.8402\n",
      "Epoch 27/100\n",
      "5359/5359 [==============================] - 1s 140us/sample - loss: 0.3471 - accuracy: 0.8558 - val_loss: 0.3700 - val_accuracy: 0.8406\n",
      "Epoch 28/100\n",
      "5359/5359 [==============================] - 1s 140us/sample - loss: 0.3460 - accuracy: 0.8558 - val_loss: 0.3691 - val_accuracy: 0.8432\n",
      "Epoch 29/100\n",
      "5359/5359 [==============================] - 1s 139us/sample - loss: 0.3451 - accuracy: 0.8574 - val_loss: 0.3686 - val_accuracy: 0.8436\n",
      "Epoch 30/100\n",
      "5359/5359 [==============================] - 1s 143us/sample - loss: 0.3442 - accuracy: 0.8586 - val_loss: 0.3681 - val_accuracy: 0.8448\n",
      "Epoch 31/100\n",
      "5359/5359 [==============================] - 1s 140us/sample - loss: 0.3434 - accuracy: 0.8595 - val_loss: 0.3671 - val_accuracy: 0.8440\n",
      "Epoch 32/100\n",
      "5359/5359 [==============================] - 1s 141us/sample - loss: 0.3426 - accuracy: 0.8602 - val_loss: 0.3664 - val_accuracy: 0.8448\n",
      "Epoch 33/100\n",
      "5359/5359 [==============================] - 1s 140us/sample - loss: 0.3417 - accuracy: 0.8599 - val_loss: 0.3655 - val_accuracy: 0.8470\n",
      "Epoch 34/100\n",
      "5359/5359 [==============================] - 1s 142us/sample - loss: 0.3413 - accuracy: 0.8614 - val_loss: 0.3653 - val_accuracy: 0.8466\n",
      "Epoch 35/100\n",
      "5359/5359 [==============================] - 1s 138us/sample - loss: 0.3405 - accuracy: 0.8614 - val_loss: 0.3643 - val_accuracy: 0.8470\n",
      "Epoch 36/100\n",
      "5359/5359 [==============================] - 1s 142us/sample - loss: 0.3399 - accuracy: 0.8621 - val_loss: 0.3645 - val_accuracy: 0.8466\n",
      "Epoch 37/100\n",
      "5359/5359 [==============================] - 1s 140us/sample - loss: 0.3394 - accuracy: 0.8634 - val_loss: 0.3637 - val_accuracy: 0.8485\n",
      "Epoch 38/100\n",
      "5359/5359 [==============================] - 1s 141us/sample - loss: 0.3387 - accuracy: 0.8628 - val_loss: 0.3634 - val_accuracy: 0.8497\n",
      "Epoch 39/100\n",
      "5359/5359 [==============================] - 1s 143us/sample - loss: 0.3383 - accuracy: 0.8636 - val_loss: 0.3626 - val_accuracy: 0.8485\n",
      "Epoch 40/100\n",
      "5359/5359 [==============================] - 1s 138us/sample - loss: 0.3377 - accuracy: 0.8632 - val_loss: 0.3620 - val_accuracy: 0.8489\n",
      "Epoch 41/100\n",
      "5359/5359 [==============================] - 1s 142us/sample - loss: 0.3373 - accuracy: 0.8642 - val_loss: 0.3616 - val_accuracy: 0.8501\n",
      "Epoch 42/100\n",
      "5359/5359 [==============================] - 1s 140us/sample - loss: 0.3367 - accuracy: 0.8636 - val_loss: 0.3610 - val_accuracy: 0.8504\n",
      "Epoch 43/100\n",
      "5359/5359 [==============================] - 1s 141us/sample - loss: 0.3364 - accuracy: 0.8627 - val_loss: 0.3606 - val_accuracy: 0.8512\n",
      "Epoch 44/100\n",
      "5359/5359 [==============================] - 1s 139us/sample - loss: 0.3358 - accuracy: 0.8642 - val_loss: 0.3604 - val_accuracy: 0.8508 0.3346 - accuracy: 0.\n",
      "Epoch 45/100\n",
      "5359/5359 [==============================] - 1s 141us/sample - loss: 0.3354 - accuracy: 0.8632 - val_loss: 0.3602 - val_accuracy: 0.8497\n",
      "Epoch 46/100\n",
      "5359/5359 [==============================] - 1s 141us/sample - loss: 0.3349 - accuracy: 0.8630 - val_loss: 0.3596 - val_accuracy: 0.8523\n",
      "Epoch 47/100\n",
      "5359/5359 [==============================] - 1s 141us/sample - loss: 0.3345 - accuracy: 0.8630 - val_loss: 0.3595 - val_accuracy: 0.8523\n",
      "Epoch 48/100\n",
      "5359/5359 [==============================] - 1s 140us/sample - loss: 0.3342 - accuracy: 0.8643 - val_loss: 0.3594 - val_accuracy: 0.8504\n",
      "Epoch 49/100\n",
      "5359/5359 [==============================] - 1s 140us/sample - loss: 0.3338 - accuracy: 0.8617 - val_loss: 0.3587 - val_accuracy: 0.8535\n",
      "Epoch 50/100\n",
      "5359/5359 [==============================] - 1s 142us/sample - loss: 0.3335 - accuracy: 0.8638 - val_loss: 0.3587 - val_accuracy: 0.8512\n",
      "Epoch 51/100\n",
      "5359/5359 [==============================] - 1s 140us/sample - loss: 0.3332 - accuracy: 0.8630 - val_loss: 0.3581 - val_accuracy: 0.8542\n",
      "Epoch 52/100\n",
      "5359/5359 [==============================] - 1s 140us/sample - loss: 0.3330 - accuracy: 0.8642 - val_loss: 0.3581 - val_accuracy: 0.8519\n",
      "Epoch 53/100\n",
      "5359/5359 [==============================] - 1s 141us/sample - loss: 0.3326 - accuracy: 0.8632 - val_loss: 0.3577 - val_accuracy: 0.8538\n",
      "Epoch 54/100\n",
      "5359/5359 [==============================] - 1s 144us/sample - loss: 0.3324 - accuracy: 0.8632 - val_loss: 0.3575 - val_accuracy: 0.8527oss: 0.3309 - accuracy: \n",
      "Epoch 55/100\n"
     ]
    },
    {
     "name": "stdout",
     "output_type": "stream",
     "text": [
      "5359/5359 [==============================] - 1s 159us/sample - loss: 0.3321 - accuracy: 0.8630 - val_loss: 0.3577 - val_accuracy: 0.8527\n",
      "Epoch 56/100\n",
      "5359/5359 [==============================] - 1s 204us/sample - loss: 0.3319 - accuracy: 0.8630 - val_loss: 0.3573 - val_accuracy: 0.8538\n",
      "Epoch 57/100\n",
      "5359/5359 [==============================] - 1s 139us/sample - loss: 0.3316 - accuracy: 0.8638 - val_loss: 0.3573 - val_accuracy: 0.8542\n",
      "Epoch 58/100\n",
      "5359/5359 [==============================] - 1s 139us/sample - loss: 0.3316 - accuracy: 0.8638 - val_loss: 0.3573 - val_accuracy: 0.8538\n",
      "Epoch 59/100\n",
      "5359/5359 [==============================] - 1s 141us/sample - loss: 0.3313 - accuracy: 0.8621 - val_loss: 0.3569 - val_accuracy: 0.8538\n",
      "Epoch 60/100\n",
      "5359/5359 [==============================] - 1s 137us/sample - loss: 0.3309 - accuracy: 0.8636 - val_loss: 0.3573 - val_accuracy: 0.8523\n",
      "Epoch 61/100\n",
      "5359/5359 [==============================] - 1s 143us/sample - loss: 0.3309 - accuracy: 0.8634 - val_loss: 0.3569 - val_accuracy: 0.8535\n",
      "Epoch 62/100\n",
      "5359/5359 [==============================] - 1s 137us/sample - loss: 0.3308 - accuracy: 0.8636 - val_loss: 0.3565 - val_accuracy: 0.8542\n",
      "Epoch 63/100\n",
      "5359/5359 [==============================] - 1s 144us/sample - loss: 0.3306 - accuracy: 0.8628 - val_loss: 0.3564 - val_accuracy: 0.8542\n",
      "Epoch 64/100\n",
      "5359/5359 [==============================] - 1s 152us/sample - loss: 0.3305 - accuracy: 0.8643 - val_loss: 0.3564 - val_accuracy: 0.8542\n",
      "Epoch 65/100\n",
      "5359/5359 [==============================] - 1s 142us/sample - loss: 0.3303 - accuracy: 0.8634 - val_loss: 0.3564 - val_accuracy: 0.8550\n",
      "Epoch 66/100\n",
      "5359/5359 [==============================] - 1s 144us/sample - loss: 0.3302 - accuracy: 0.8645 - val_loss: 0.3561 - val_accuracy: 0.8550\n",
      "Epoch 67/100\n",
      "5359/5359 [==============================] - 1s 145us/sample - loss: 0.3301 - accuracy: 0.8640 - val_loss: 0.3561 - val_accuracy: 0.8554\n",
      "Epoch 68/100\n",
      "5359/5359 [==============================] - 1s 144us/sample - loss: 0.3301 - accuracy: 0.8628 - val_loss: 0.3562 - val_accuracy: 0.8554\n",
      "Epoch 69/100\n",
      "5359/5359 [==============================] - 1s 144us/sample - loss: 0.3298 - accuracy: 0.8640 - val_loss: 0.3563 - val_accuracy: 0.8565\n",
      "Epoch 70/100\n",
      "5359/5359 [==============================] - 1s 141us/sample - loss: 0.3298 - accuracy: 0.8649 - val_loss: 0.3563 - val_accuracy: 0.8557\n",
      "Epoch 71/100\n",
      "5359/5359 [==============================] - 1s 142us/sample - loss: 0.3297 - accuracy: 0.8638 - val_loss: 0.3561 - val_accuracy: 0.8557\n",
      "Epoch 72/100\n",
      "5359/5359 [==============================] - 1s 138us/sample - loss: 0.3295 - accuracy: 0.8634 - val_loss: 0.3559 - val_accuracy: 0.8569\n",
      "Epoch 73/100\n",
      "5359/5359 [==============================] - 1s 141us/sample - loss: 0.3293 - accuracy: 0.8627 - val_loss: 0.3559 - val_accuracy: 0.8569\n",
      "Epoch 74/100\n",
      "5359/5359 [==============================] - 1s 139us/sample - loss: 0.3291 - accuracy: 0.8636 - val_loss: 0.3557 - val_accuracy: 0.8561\n",
      "Epoch 75/100\n",
      "5359/5359 [==============================] - 1s 142us/sample - loss: 0.3291 - accuracy: 0.8643 - val_loss: 0.3556 - val_accuracy: 0.8557\n",
      "Epoch 76/100\n",
      "5359/5359 [==============================] - 1s 141us/sample - loss: 0.3291 - accuracy: 0.8630 - val_loss: 0.3559 - val_accuracy: 0.8550\n",
      "Epoch 77/100\n",
      "5359/5359 [==============================] - 1s 139us/sample - loss: 0.3289 - accuracy: 0.8636 - val_loss: 0.3557 - val_accuracy: 0.8557\n",
      "Epoch 78/100\n",
      "5359/5359 [==============================] - 1s 142us/sample - loss: 0.3289 - accuracy: 0.8627 - val_loss: 0.3560 - val_accuracy: 0.8565\n",
      "Epoch 79/100\n",
      "5359/5359 [==============================] - 1s 140us/sample - loss: 0.3288 - accuracy: 0.8630 - val_loss: 0.3557 - val_accuracy: 0.8576\n",
      "Epoch 80/100\n",
      "5359/5359 [==============================] - 1s 141us/sample - loss: 0.3287 - accuracy: 0.8627 - val_loss: 0.3555 - val_accuracy: 0.8573\n",
      "Epoch 81/100\n",
      "5359/5359 [==============================] - 1s 138us/sample - loss: 0.3286 - accuracy: 0.8634 - val_loss: 0.3557 - val_accuracy: 0.8580\n",
      "Epoch 82/100\n",
      "5359/5359 [==============================] - 1s 143us/sample - loss: 0.3285 - accuracy: 0.8636 - val_loss: 0.3555 - val_accuracy: 0.8576\n",
      "Epoch 83/100\n",
      "5359/5359 [==============================] - 1s 144us/sample - loss: 0.3284 - accuracy: 0.8634 - val_loss: 0.3558 - val_accuracy: 0.8569\n",
      "Epoch 84/100\n",
      "5359/5359 [==============================] - 1s 147us/sample - loss: 0.3283 - accuracy: 0.8627 - val_loss: 0.3554 - val_accuracy: 0.8569\n",
      "Epoch 85/100\n",
      "5359/5359 [==============================] - 1s 147us/sample - loss: 0.3282 - accuracy: 0.8628 - val_loss: 0.3557 - val_accuracy: 0.8591\n",
      "Epoch 86/100\n",
      "5359/5359 [==============================] - 1s 145us/sample - loss: 0.3282 - accuracy: 0.8630 - val_loss: 0.3550 - val_accuracy: 0.8576\n",
      "Epoch 87/100\n",
      "5359/5359 [==============================] - 1s 144us/sample - loss: 0.3281 - accuracy: 0.8628 - val_loss: 0.3552 - val_accuracy: 0.8576\n",
      "Epoch 88/100\n",
      "5359/5359 [==============================] - 1s 141us/sample - loss: 0.3278 - accuracy: 0.8643 - val_loss: 0.3550 - val_accuracy: 0.8573\n",
      "Epoch 89/100\n",
      "5359/5359 [==============================] - 1s 141us/sample - loss: 0.3279 - accuracy: 0.8630 - val_loss: 0.3550 - val_accuracy: 0.8576\n",
      "Epoch 90/100\n",
      "5359/5359 [==============================] - 1s 147us/sample - loss: 0.3277 - accuracy: 0.8647 - val_loss: 0.3548 - val_accuracy: 0.8573\n",
      "Epoch 91/100\n",
      "5359/5359 [==============================] - 1s 144us/sample - loss: 0.3277 - accuracy: 0.8636 - val_loss: 0.3554 - val_accuracy: 0.8584\n",
      "Epoch 92/100\n",
      "5359/5359 [==============================] - 1s 138us/sample - loss: 0.3277 - accuracy: 0.8645 - val_loss: 0.3553 - val_accuracy: 0.8588\n",
      "Epoch 93/100\n",
      "5359/5359 [==============================] - 1s 146us/sample - loss: 0.3276 - accuracy: 0.8640 - val_loss: 0.3546 - val_accuracy: 0.8580\n",
      "Epoch 94/100\n",
      "5359/5359 [==============================] - 1s 142us/sample - loss: 0.3275 - accuracy: 0.8642 - val_loss: 0.3549 - val_accuracy: 0.8584\n",
      "Epoch 95/100\n",
      "5359/5359 [==============================] - 1s 139us/sample - loss: 0.3274 - accuracy: 0.8638 - val_loss: 0.3546 - val_accuracy: 0.8557\n",
      "Epoch 96/100\n",
      "5359/5359 [==============================] - 1s 143us/sample - loss: 0.3273 - accuracy: 0.8627 - val_loss: 0.3546 - val_accuracy: 0.8573\n",
      "Epoch 97/100\n",
      "5359/5359 [==============================] - 1s 140us/sample - loss: 0.3273 - accuracy: 0.8645 - val_loss: 0.3548 - val_accuracy: 0.8584\n",
      "Epoch 98/100\n",
      "5359/5359 [==============================] - 1s 140us/sample - loss: 0.3273 - accuracy: 0.8645 - val_loss: 0.3544 - val_accuracy: 0.8584\n",
      "Epoch 99/100\n",
      "5359/5359 [==============================] - 1s 142us/sample - loss: 0.3272 - accuracy: 0.8643 - val_loss: 0.3543 - val_accuracy: 0.8576\n",
      "Epoch 100/100\n",
      "5359/5359 [==============================] - 1s 138us/sample - loss: 0.3273 - accuracy: 0.8638 - val_loss: 0.3542 - val_accuracy: 0.8576\n"
     ]
    }
   ],
   "source": [
    "#Fitting The ANN to Training set\n",
    "model_history = classifier.fit(X_train, y_train, validation_split=0.33, batch_size=10, epochs=100)"
   ]
  },
  {
   "cell_type": "code",
   "execution_count": 15,
   "metadata": {},
   "outputs": [],
   "source": [
    "y_pred = classifier.predict(X_test)\n",
    "y_pred = (y_pred >0.5)"
   ]
  },
  {
   "cell_type": "code",
   "execution_count": 16,
   "metadata": {},
   "outputs": [
    {
     "data": {
      "text/plain": [
       "array([[1512,   83],\n",
       "       [ 193,  212]], dtype=int64)"
      ]
     },
     "execution_count": 16,
     "metadata": {},
     "output_type": "execute_result"
    }
   ],
   "source": [
    "#Confusion Matrix\n",
    "from sklearn.metrics import confusion_matrix\n",
    "cm = confusion_matrix(y_test, y_pred)\n",
    "cm"
   ]
  },
  {
   "cell_type": "code",
   "execution_count": 17,
   "metadata": {},
   "outputs": [
    {
     "data": {
      "text/plain": [
       "0.862"
      ]
     },
     "execution_count": 17,
     "metadata": {},
     "output_type": "execute_result"
    }
   ],
   "source": [
    "#Calculate The Accuaracy\n",
    "from sklearn.metrics import accuracy_score\n",
    "score = accuracy_score(y_pred, y_test)\n",
    "score"
   ]
  },
  {
   "cell_type": "code",
   "execution_count": null,
   "metadata": {},
   "outputs": [],
   "source": []
  },
  {
   "cell_type": "code",
   "execution_count": null,
   "metadata": {},
   "outputs": [],
   "source": []
  },
  {
   "cell_type": "code",
   "execution_count": 19,
   "metadata": {},
   "outputs": [
    {
     "name": "stdout",
     "output_type": "stream",
     "text": [
      "dict_keys(['loss', 'accuracy', 'val_loss', 'val_accuracy'])\n"
     ]
    }
   ],
   "source": [
    "#list all data in history\n",
    "print(model_history.history.keys())"
   ]
  },
  {
   "cell_type": "code",
   "execution_count": 28,
   "metadata": {
    "scrolled": true
   },
   "outputs": [
    {
     "data": {
      "image/png": "[encoded data removed]",
      "text/plain": [
       "<Figure size 432x288 with 1 Axes>"
      ]
     },
     "metadata": {
      "needs_background": "light"
     },
     "output_type": "display_data"
    }
   ],
   "source": [
    "#Summerize history for accuracy\n",
    "plt.plot(model_history.history['accuracy'])\n",
    "plt.plot(model_history.history['val_accuracy'])\n",
    "plt.title('Model_Accuracy')\n",
    "plt.ylabel('accuracy')\n",
    "plt.xlabel('epoch')\n",
    "plt.legend(['train', 'test'], loc=\"upper left\")\n",
    "plt.show()"
   ]
  },
  {
   "cell_type": "code",
   "execution_count": 30,
   "metadata": {},
   "outputs": [
    {
     "data": {
      "image/png": "[encoded data removed]",
      "text/plain": [
       "<Figure size 432x288 with 1 Axes>"
      ]
     },
     "metadata": {
      "needs_background": "light"
     },
     "output_type": "display_data"
    }
   ],
   "source": [
    "#Summerize history for loss\n",
    "plt.plot(model_history.history['loss'])\n",
    "plt.plot(model_history.history['val_loss'])\n",
    "plt.title('Mdel_Loss')\n",
    "plt.ylabel('Loss')\n",
    "plt.xlabel('epoch')\n",
    "plt.legend(['train', 'test'], loc=\"upper left\")\n",
    "plt.show()"
   ]
  },
  {
   "cell_type": "code",
   "execution_count": null,
   "metadata": {},
   "outputs": [],
   "source": []
  }
 ],
 "metadata": {
  "kernelspec": {
   "display_name": "Python 3",
   "language": "python",
   "name": "python3"
  },
  "language_info": {
   "codemirror_mode": {
    "name": "ipython",
    "version": 3
   },
   "file_extension": ".py",
   "mimetype": "text/x-python",
   "name": "python",
   "nbconvert_exporter": "python",
   "pygments_lexer": "ipython3",
   "version": "3.6.12"
  }
 },
 "nbformat": 4,
 "nbformat_minor": 4
}
